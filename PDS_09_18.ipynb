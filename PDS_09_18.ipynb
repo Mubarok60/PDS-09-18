{
  "nbformat": 4,
  "nbformat_minor": 0,
  "metadata": {
    "colab": {
      "provenance": []
    },
    "kernelspec": {
      "name": "python3",
      "display_name": "Python 3"
    },
    "language_info": {
      "name": "python"
    }
  },
  "cells": [
    {
      "cell_type": "markdown",
      "source": [
        "# Project 1"
      ],
      "metadata": {
        "id": "351Tc7pXjX-3"
      }
    },
    {
      "cell_type": "code",
      "source": [
        "import pandas as pd\n",
        "import matplotlib.pyplot as plt\n",
        "import seaborn as sns\n",
        "\n",
        "# 1.\n",
        "url = \"https://raw.githubusercontent.com/PulockDas/pd-12-resources/refs/heads/master/titanic.csv\"\n",
        "titanic_data = pd.read_csv(url)\n",
        "\n",
        "# 2.\n",
        "print(\"Features with Null values:\")\n",
        "print(titanic_data.isnull().sum())\n",
        "\n",
        "# 3.\n",
        "titanic_data['Age'].fillna(titanic_data['Age'].mean(), inplace=True)\n",
        "titanic_data['Cabin'].fillna(\"Unknown\", inplace=True)\n",
        "\n",
        "# 4.\n",
        "sns.countplot(x='Survived', hue='Sex', data=titanic_data)\n",
        "plt.title('Survival Count (with Gender)')\n",
        "plt.xlabel('Survived (0 = No, 1 = Yes)')\n",
        "plt.ylabel('Number of Passengers')\n",
        "plt.show()\n",
        "\n",
        "#5.\n",
        "\n",
        "sns.countplot(x='Survived', hue='Pclass', data=titanic_data)\n",
        "plt.title('Survival Count (with Pclass)')\n",
        "plt.xlabel('Survived (0 = No, 1 = Yes)')\n",
        "plt.ylabel('Number of Passengers')\n",
        "plt.show()\n",
        "\n",
        "# 6.\n",
        "def categorize_age(age):\n",
        "    if age <= 16:\n",
        "        return 0\n",
        "    elif age <= 26:\n",
        "        return 1\n",
        "    elif age <= 36:\n",
        "        return 2\n",
        "    elif age <= 62:\n",
        "        return 3\n",
        "    else:\n",
        "        return 4\n",
        "\n",
        "titanic_data['AgeClass'] = titanic_data['Age'].apply(categorize_age)\n",
        "\n",
        "# 7.\n",
        "titanic_data.drop('Age', axis=1, inplace=True)\n",
        "\n",
        "# 8.\n",
        "sns.countplot(x='Survived', hue='AgeClass', data=titanic_data)\n",
        "plt.title('Survival Count (with AgeClass)')\n",
        "plt.xlabel('Survived (0 = No, 1 = Yes)')\n",
        "plt.ylabel('Number of Passengers')\n",
        "plt.show()\n",
        "\n",
        "#9.\n",
        "print(titanic_data.head())\n",
        "\n",
        "\n",
        "\n",
        "\n",
        "#Assignment\n",
        "import pandas as pd\n",
        "import matplotlib.pyplot as plt\n",
        "import seaborn as sns\n",
        "\n",
        "url = \"https://raw.githubusercontent.com/PulockDas/pd-12-resources/refs/heads/master/titanic.csv\"\n",
        "titanic = pd.read_csv(url)\n",
        "\n",
        "titanic['Age'].fillna(titanic['Age'].mean(), inplace=True)\n",
        "titanic['Relatives'] = titanic['SibSp'] + titanic['Parch']\n",
        "survivors = titanic[titanic['Survived'] == 1]\n",
        "sns.scatterplot(x='Relatives', y='Age', data=survivors)\n",
        "plt.title('Age vs. Relatives (Survived)')\n",
        "plt.show()\n",
        ""
      ],
      "metadata": {
        "id": "opyWcwAZjUIC"
      },
      "execution_count": null,
      "outputs": []
    },
    {
      "cell_type": "markdown",
      "source": [
        "# Project 2"
      ],
      "metadata": {
        "id": "EJ_DmE99jeja"
      }
    },
    {
      "cell_type": "code",
      "execution_count": null,
      "metadata": {
        "id": "q1p-eJUYRAzp"
      },
      "outputs": [],
      "source": [
        "   import pandas as pd\n",
        "   import pandas as pd\n",
        "\n",
        "\n",
        "   tt1_df = pd.read_csv('/content/TT-1 Marks.csv')\n",
        "   tt2_df = pd.read_csv('/content/TT-2 Marks.csv')\n",
        "\n",
        "   merged_df = pd.merge(tt1_df, tt2_df, on=['Registration Number', 'Name'])\n",
        "\n",
        "   merged_df['Best Marks'] = merged_df[['TT-1 Marks', 'TT-2 Marks']].max(axis=1)\n",
        "   merged_df['Average Marks'] = merged_df[['TT-1 Marks', 'TT-2 Marks']].mean(axis=1)\n",
        "\n",
        "   merged_df.to_csv('merged_marks.csv', index=False)\n",
        "\n",
        "   merged_df = merged_df.drop(columns=['TT-1 Marks', 'TT-2 Marks'])\n",
        "\n",
        "   import numpy as np\n",
        "\n",
        "   merged_df['Attendance Marks'] = np.random.randint(0, 11, size=50)\n",
        "   merged_df['Term Final Marks'] = np.random.randint(0, 101, size=50)\n",
        "\n",
        "\n",
        "   merged_df['Final Marks'] = (merged_df['Term Final Marks'] * 0.7 +\n",
        "                               merged_df['Average Marks'] +\n",
        "                               merged_df['Attendance Marks'])\n",
        "\n",
        "   merged_df.to_csv('final-result.csv', index=False)\n",
        "\n",
        "   from sklearn.cluster import KMeans\n",
        "   import matplotlib.pyplot as plt\n",
        "\n",
        "   kmeans = KMeans(n_clusters=3)\n",
        "   merged_df['Cluster'] = kmeans.fit_predict(merged_df[['Final Marks']])\n",
        "\n",
        "   plt.scatter(merged_df['Registration Number'], merged_df['Final Marks'], c=merged_df['Cluster'])\n",
        "   plt.title('K-Means Clustering of Final Marks')\n",
        "   plt.xlabel('Registration Number')\n",
        "   plt.ylabel('Final Marks')\n",
        "   plt.show()\n",
        ""
      ]
    }
  ]
}